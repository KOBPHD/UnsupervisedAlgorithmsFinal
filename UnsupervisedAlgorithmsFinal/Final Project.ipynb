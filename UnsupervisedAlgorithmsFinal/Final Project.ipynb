{
 "cells": [
  {
   "cell_type": "markdown",
   "id": "aa6be397",
   "metadata": {},
   "source": [
    "Library imports"
   ]
  },
  {
   "cell_type": "code",
   "execution_count": 1,
   "id": "a7ae8a4e",
   "metadata": {},
   "outputs": [],
   "source": [
    "import pandas as pd\n",
    "import numpy as np\n",
    "import matplotlib.pyplot as plt\n",
    "%matplotlib inline\n",
    "from sklearn.cluster import KMeans\n",
    "from sklearn.preprocessing import StandardScaler\n",
    "from sklearn.pipeline import Pipeline\n",
    "from sklearn.metrics import accuracy_score, confusion_matrix"
   ]
  },
  {
   "cell_type": "markdown",
   "id": "23146508",
   "metadata": {},
   "source": [
    "#### Overview\n",
    "Data source: https://archive.ics.uci.edu/ml/machine-learning-databases/wine-quality/<br>\n",
    "Two data sets of wine quality ratings and quantitative data which is representative of laboratory testing.<br>\n",
    "One set is for red wine and one set is for white.<br>\n",
    "Typically, these two sets are used separately for supervised learning applications, but I'm going to merge them and see if they can be differentiated using unsupervised learning.<br>\n",
    "I'm not a wine drinker (it all tastes like vinegar to me), but I'm guessing there's some difference between red and white (beyond the color) that makes them differentiable via unsupervised learning.<br>"
   ]
  },
  {
   "cell_type": "markdown",
   "id": "97068aeb",
   "metadata": {},
   "source": [
    "The two datasets are imported and an additional column (\"type\") is created to store the matching label.<br>\n",
    "This won't be used in the training, but will be used to assess classification accuracy."
   ]
  },
  {
   "cell_type": "code",
   "execution_count": 2,
   "id": "f14e8eba",
   "metadata": {},
   "outputs": [
    {
     "name": "stdout",
     "output_type": "stream",
     "text": [
      "White wine observations: 4898\n",
      "Red wine observations: 1599\n",
      "Combined observations: 6497\n"
     ]
    }
   ],
   "source": [
    "ww_data = pd.read_csv(\"Wine Data\\winequality-white.csv\", header=0, sep=\";\")\n",
    "rw_data = pd.read_csv(\"Wine Data\\winequality-red.csv\", header=0, sep=\";\")\n",
    "ww_data[\"type\"] = \"white\"\n",
    "rw_data[\"type\"] = \"red\"\n",
    "print(f\"White wine observations: {ww_data.shape[0]}\")\n",
    "print(f\"Red wine observations: {rw_data.shape[0]}\")\n",
    "print(f\"Combined observations: {ww_data.shape[0]+ rw_data.shape[0]}\")"
   ]
  },
  {
   "cell_type": "code",
   "execution_count": 3,
   "id": "983cc54b",
   "metadata": {},
   "outputs": [
    {
     "data": {
      "text/html": [
       "<div>\n",
       "<style scoped>\n",
       "    .dataframe tbody tr th:only-of-type {\n",
       "        vertical-align: middle;\n",
       "    }\n",
       "\n",
       "    .dataframe tbody tr th {\n",
       "        vertical-align: top;\n",
       "    }\n",
       "\n",
       "    .dataframe thead th {\n",
       "        text-align: right;\n",
       "    }\n",
       "</style>\n",
       "<table border=\"1\" class=\"dataframe\">\n",
       "  <thead>\n",
       "    <tr style=\"text-align: right;\">\n",
       "      <th></th>\n",
       "      <th>fixed acidity</th>\n",
       "      <th>volatile acidity</th>\n",
       "      <th>citric acid</th>\n",
       "      <th>residual sugar</th>\n",
       "      <th>chlorides</th>\n",
       "      <th>free sulfur dioxide</th>\n",
       "      <th>total sulfur dioxide</th>\n",
       "      <th>density</th>\n",
       "      <th>pH</th>\n",
       "      <th>sulphates</th>\n",
       "      <th>alcohol</th>\n",
       "      <th>quality</th>\n",
       "      <th>type</th>\n",
       "    </tr>\n",
       "  </thead>\n",
       "  <tbody>\n",
       "    <tr>\n",
       "      <th>0</th>\n",
       "      <td>7.0</td>\n",
       "      <td>0.27</td>\n",
       "      <td>0.36</td>\n",
       "      <td>20.7</td>\n",
       "      <td>0.045</td>\n",
       "      <td>45.0</td>\n",
       "      <td>170.0</td>\n",
       "      <td>1.0010</td>\n",
       "      <td>3.00</td>\n",
       "      <td>0.45</td>\n",
       "      <td>8.8</td>\n",
       "      <td>6</td>\n",
       "      <td>white</td>\n",
       "    </tr>\n",
       "    <tr>\n",
       "      <th>1</th>\n",
       "      <td>6.3</td>\n",
       "      <td>0.30</td>\n",
       "      <td>0.34</td>\n",
       "      <td>1.6</td>\n",
       "      <td>0.049</td>\n",
       "      <td>14.0</td>\n",
       "      <td>132.0</td>\n",
       "      <td>0.9940</td>\n",
       "      <td>3.30</td>\n",
       "      <td>0.49</td>\n",
       "      <td>9.5</td>\n",
       "      <td>6</td>\n",
       "      <td>white</td>\n",
       "    </tr>\n",
       "    <tr>\n",
       "      <th>2</th>\n",
       "      <td>8.1</td>\n",
       "      <td>0.28</td>\n",
       "      <td>0.40</td>\n",
       "      <td>6.9</td>\n",
       "      <td>0.050</td>\n",
       "      <td>30.0</td>\n",
       "      <td>97.0</td>\n",
       "      <td>0.9951</td>\n",
       "      <td>3.26</td>\n",
       "      <td>0.44</td>\n",
       "      <td>10.1</td>\n",
       "      <td>6</td>\n",
       "      <td>white</td>\n",
       "    </tr>\n",
       "    <tr>\n",
       "      <th>3</th>\n",
       "      <td>7.2</td>\n",
       "      <td>0.23</td>\n",
       "      <td>0.32</td>\n",
       "      <td>8.5</td>\n",
       "      <td>0.058</td>\n",
       "      <td>47.0</td>\n",
       "      <td>186.0</td>\n",
       "      <td>0.9956</td>\n",
       "      <td>3.19</td>\n",
       "      <td>0.40</td>\n",
       "      <td>9.9</td>\n",
       "      <td>6</td>\n",
       "      <td>white</td>\n",
       "    </tr>\n",
       "    <tr>\n",
       "      <th>4</th>\n",
       "      <td>7.2</td>\n",
       "      <td>0.23</td>\n",
       "      <td>0.32</td>\n",
       "      <td>8.5</td>\n",
       "      <td>0.058</td>\n",
       "      <td>47.0</td>\n",
       "      <td>186.0</td>\n",
       "      <td>0.9956</td>\n",
       "      <td>3.19</td>\n",
       "      <td>0.40</td>\n",
       "      <td>9.9</td>\n",
       "      <td>6</td>\n",
       "      <td>white</td>\n",
       "    </tr>\n",
       "  </tbody>\n",
       "</table>\n",
       "</div>"
      ],
      "text/plain": [
       "   fixed acidity  volatile acidity  citric acid  residual sugar  chlorides  \\\n",
       "0            7.0              0.27         0.36            20.7      0.045   \n",
       "1            6.3              0.30         0.34             1.6      0.049   \n",
       "2            8.1              0.28         0.40             6.9      0.050   \n",
       "3            7.2              0.23         0.32             8.5      0.058   \n",
       "4            7.2              0.23         0.32             8.5      0.058   \n",
       "\n",
       "   free sulfur dioxide  total sulfur dioxide  density    pH  sulphates  \\\n",
       "0                 45.0                 170.0   1.0010  3.00       0.45   \n",
       "1                 14.0                 132.0   0.9940  3.30       0.49   \n",
       "2                 30.0                  97.0   0.9951  3.26       0.44   \n",
       "3                 47.0                 186.0   0.9956  3.19       0.40   \n",
       "4                 47.0                 186.0   0.9956  3.19       0.40   \n",
       "\n",
       "   alcohol  quality   type  \n",
       "0      8.8        6  white  \n",
       "1      9.5        6  white  \n",
       "2     10.1        6  white  \n",
       "3      9.9        6  white  \n",
       "4      9.9        6  white  "
      ]
     },
     "metadata": {},
     "output_type": "display_data"
    },
    {
     "data": {
      "text/html": [
       "<div>\n",
       "<style scoped>\n",
       "    .dataframe tbody tr th:only-of-type {\n",
       "        vertical-align: middle;\n",
       "    }\n",
       "\n",
       "    .dataframe tbody tr th {\n",
       "        vertical-align: top;\n",
       "    }\n",
       "\n",
       "    .dataframe thead th {\n",
       "        text-align: right;\n",
       "    }\n",
       "</style>\n",
       "<table border=\"1\" class=\"dataframe\">\n",
       "  <thead>\n",
       "    <tr style=\"text-align: right;\">\n",
       "      <th></th>\n",
       "      <th>fixed acidity</th>\n",
       "      <th>volatile acidity</th>\n",
       "      <th>citric acid</th>\n",
       "      <th>residual sugar</th>\n",
       "      <th>chlorides</th>\n",
       "      <th>free sulfur dioxide</th>\n",
       "      <th>total sulfur dioxide</th>\n",
       "      <th>density</th>\n",
       "      <th>pH</th>\n",
       "      <th>sulphates</th>\n",
       "      <th>alcohol</th>\n",
       "      <th>quality</th>\n",
       "      <th>type</th>\n",
       "    </tr>\n",
       "  </thead>\n",
       "  <tbody>\n",
       "    <tr>\n",
       "      <th>0</th>\n",
       "      <td>7.4</td>\n",
       "      <td>0.70</td>\n",
       "      <td>0.00</td>\n",
       "      <td>1.9</td>\n",
       "      <td>0.076</td>\n",
       "      <td>11.0</td>\n",
       "      <td>34.0</td>\n",
       "      <td>0.9978</td>\n",
       "      <td>3.51</td>\n",
       "      <td>0.56</td>\n",
       "      <td>9.4</td>\n",
       "      <td>5</td>\n",
       "      <td>red</td>\n",
       "    </tr>\n",
       "    <tr>\n",
       "      <th>1</th>\n",
       "      <td>7.8</td>\n",
       "      <td>0.88</td>\n",
       "      <td>0.00</td>\n",
       "      <td>2.6</td>\n",
       "      <td>0.098</td>\n",
       "      <td>25.0</td>\n",
       "      <td>67.0</td>\n",
       "      <td>0.9968</td>\n",
       "      <td>3.20</td>\n",
       "      <td>0.68</td>\n",
       "      <td>9.8</td>\n",
       "      <td>5</td>\n",
       "      <td>red</td>\n",
       "    </tr>\n",
       "    <tr>\n",
       "      <th>2</th>\n",
       "      <td>7.8</td>\n",
       "      <td>0.76</td>\n",
       "      <td>0.04</td>\n",
       "      <td>2.3</td>\n",
       "      <td>0.092</td>\n",
       "      <td>15.0</td>\n",
       "      <td>54.0</td>\n",
       "      <td>0.9970</td>\n",
       "      <td>3.26</td>\n",
       "      <td>0.65</td>\n",
       "      <td>9.8</td>\n",
       "      <td>5</td>\n",
       "      <td>red</td>\n",
       "    </tr>\n",
       "    <tr>\n",
       "      <th>3</th>\n",
       "      <td>11.2</td>\n",
       "      <td>0.28</td>\n",
       "      <td>0.56</td>\n",
       "      <td>1.9</td>\n",
       "      <td>0.075</td>\n",
       "      <td>17.0</td>\n",
       "      <td>60.0</td>\n",
       "      <td>0.9980</td>\n",
       "      <td>3.16</td>\n",
       "      <td>0.58</td>\n",
       "      <td>9.8</td>\n",
       "      <td>6</td>\n",
       "      <td>red</td>\n",
       "    </tr>\n",
       "    <tr>\n",
       "      <th>4</th>\n",
       "      <td>7.4</td>\n",
       "      <td>0.70</td>\n",
       "      <td>0.00</td>\n",
       "      <td>1.9</td>\n",
       "      <td>0.076</td>\n",
       "      <td>11.0</td>\n",
       "      <td>34.0</td>\n",
       "      <td>0.9978</td>\n",
       "      <td>3.51</td>\n",
       "      <td>0.56</td>\n",
       "      <td>9.4</td>\n",
       "      <td>5</td>\n",
       "      <td>red</td>\n",
       "    </tr>\n",
       "  </tbody>\n",
       "</table>\n",
       "</div>"
      ],
      "text/plain": [
       "   fixed acidity  volatile acidity  citric acid  residual sugar  chlorides  \\\n",
       "0            7.4              0.70         0.00             1.9      0.076   \n",
       "1            7.8              0.88         0.00             2.6      0.098   \n",
       "2            7.8              0.76         0.04             2.3      0.092   \n",
       "3           11.2              0.28         0.56             1.9      0.075   \n",
       "4            7.4              0.70         0.00             1.9      0.076   \n",
       "\n",
       "   free sulfur dioxide  total sulfur dioxide  density    pH  sulphates  \\\n",
       "0                 11.0                  34.0   0.9978  3.51       0.56   \n",
       "1                 25.0                  67.0   0.9968  3.20       0.68   \n",
       "2                 15.0                  54.0   0.9970  3.26       0.65   \n",
       "3                 17.0                  60.0   0.9980  3.16       0.58   \n",
       "4                 11.0                  34.0   0.9978  3.51       0.56   \n",
       "\n",
       "   alcohol  quality type  \n",
       "0      9.4        5  red  \n",
       "1      9.8        5  red  \n",
       "2      9.8        5  red  \n",
       "3      9.8        6  red  \n",
       "4      9.4        5  red  "
      ]
     },
     "metadata": {},
     "output_type": "display_data"
    }
   ],
   "source": [
    "display(ww_data.head())\n",
    "display(rw_data.head())"
   ]
  },
  {
   "cell_type": "markdown",
   "id": "c041642a",
   "metadata": {},
   "source": [
    "Typically, this dataset has been used as a supervised learning example to try to predict quality ratings.<br>\n",
    "I'm going to ignore the quality ratings for now and look at all of the other quantitative variables that will be used as predictors.<br>\n",
    "The two datasets, having been labeled both with text and a numeric value, are combined for easier visualization and analysis."
   ]
  },
  {
   "cell_type": "code",
   "execution_count": 4,
   "id": "5c8ecaa1",
   "metadata": {},
   "outputs": [],
   "source": [
    "wine_data = pd.concat([ww_data, rw_data], axis = 0, ignore_index = True)\n",
    "wine_data[\"type_bin\"] = 1\n",
    "wine_data.loc[wine_data[\"type\"] == \"red\",\"type_bin\"] = 0"
   ]
  },
  {
   "cell_type": "code",
   "execution_count": 5,
   "id": "31634725",
   "metadata": {},
   "outputs": [],
   "source": [
    "wine_data.columns.tolist()\n",
    "#[\"fixed acidity\", \"volatile acidity\", \"citric acid\", \"residual sugar\", \"chlorides\", \"free sulfur dioxide\", \"total sulfur dioxide\", \"density\", \"pH\", \"sulphates\", \"alcohol\", \"quality\", \"type\"]\n",
    "predictor_list = [\"fixed acidity\", \"volatile acidity\", \"citric acid\", \"residual sugar\", \"chlorides\", \"free sulfur dioxide\", \"total sulfur dioxide\", \"density\", \"pH\", \"sulphates\", \"alcohol\"]"
   ]
  },
  {
   "cell_type": "markdown",
   "id": "1c1045c8",
   "metadata": {},
   "source": [
    "#### EDA Visualizations\n",
    "Generate histograms of the distribution of each variable by wine type.<br>\n",
    "(<i>I'm moderately colorblind, so I don't generally color-code anything by default, but it seems befitting for types of wine.</i>)"
   ]
  },
  {
   "cell_type": "code",
   "execution_count": 6,
   "id": "92c8f53f",
   "metadata": {
    "scrolled": false
   },
   "outputs": [
    {
     "data": {
      "image/png": "[encoded data removed]",
      "text/plain": [
       "<Figure size 1080x2160 with 22 Axes>"
      ]
     },
     "metadata": {
      "needs_background": "light"
     },
     "output_type": "display_data"
    }
   ],
   "source": [
    "plt.figure(figsize = (15, 30))\n",
    "plt.subplots_adjust(hspace = 0.75)\n",
    "plt.suptitle(\"Wine Feature Distributions - White vs. Red\", y = 0.90)\n",
    "\n",
    "for r, var in enumerate(predictor_list):\n",
    "    xlim_vals = (wine_data[var].min(), wine_data[var].max())\n",
    "    for i, w_type in enumerate([\"white\", \"red\"]):\n",
    "        ax = plt.subplot(len(predictor_list), 2, (2*r)+1+i)\n",
    "        #wine_data.loc[(wine_data[\"type\"] == w_type), var].plot(ax = ax, kind = \"density\")\n",
    "        plt.hist(wine_data.loc[(wine_data[\"type\"] == w_type), var], bins = 100, range = xlim_vals, density = False,\n",
    "                color = w_type)\n",
    "        ax.set_facecolor(\"grey\")\n",
    "        \n",
    "        plt.title(f\"{var} - {w_type}\")\n",
    "        plt.xlim(xlim_vals)\n",
    "        plt.ylabel(None)    "
   ]
  },
  {
   "cell_type": "markdown",
   "id": "1838d65d",
   "metadata": {},
   "source": [
    "#### EDA Correlation Matrix"
   ]
  },
  {
   "cell_type": "code",
   "execution_count": 7,
   "id": "4fb356b0",
   "metadata": {},
   "outputs": [
    {
     "data": {
      "text/html": [
       "<div>\n",
       "<style scoped>\n",
       "    .dataframe tbody tr th:only-of-type {\n",
       "        vertical-align: middle;\n",
       "    }\n",
       "\n",
       "    .dataframe tbody tr th {\n",
       "        vertical-align: top;\n",
       "    }\n",
       "\n",
       "    .dataframe thead th {\n",
       "        text-align: right;\n",
       "    }\n",
       "</style>\n",
       "<table border=\"1\" class=\"dataframe\">\n",
       "  <thead>\n",
       "    <tr style=\"text-align: right;\">\n",
       "      <th></th>\n",
       "      <th>fixed acidity</th>\n",
       "      <th>volatile acidity</th>\n",
       "      <th>citric acid</th>\n",
       "      <th>residual sugar</th>\n",
       "      <th>chlorides</th>\n",
       "      <th>free sulfur dioxide</th>\n",
       "      <th>total sulfur dioxide</th>\n",
       "      <th>density</th>\n",
       "      <th>pH</th>\n",
       "      <th>sulphates</th>\n",
       "      <th>alcohol</th>\n",
       "    </tr>\n",
       "  </thead>\n",
       "  <tbody>\n",
       "    <tr>\n",
       "      <th>fixed acidity</th>\n",
       "      <td>1.00</td>\n",
       "      <td>0.22</td>\n",
       "      <td>0.32</td>\n",
       "      <td>-0.11</td>\n",
       "      <td>0.30</td>\n",
       "      <td>-0.28</td>\n",
       "      <td>-0.33</td>\n",
       "      <td>0.46</td>\n",
       "      <td>-0.25</td>\n",
       "      <td>0.30</td>\n",
       "      <td>-0.10</td>\n",
       "    </tr>\n",
       "    <tr>\n",
       "      <th>volatile acidity</th>\n",
       "      <td>0.22</td>\n",
       "      <td>1.00</td>\n",
       "      <td>-0.38</td>\n",
       "      <td>-0.20</td>\n",
       "      <td>0.38</td>\n",
       "      <td>-0.35</td>\n",
       "      <td>-0.41</td>\n",
       "      <td>0.27</td>\n",
       "      <td>0.26</td>\n",
       "      <td>0.23</td>\n",
       "      <td>-0.04</td>\n",
       "    </tr>\n",
       "    <tr>\n",
       "      <th>citric acid</th>\n",
       "      <td>0.32</td>\n",
       "      <td>-0.38</td>\n",
       "      <td>1.00</td>\n",
       "      <td>0.14</td>\n",
       "      <td>0.04</td>\n",
       "      <td>0.13</td>\n",
       "      <td>0.20</td>\n",
       "      <td>0.10</td>\n",
       "      <td>-0.33</td>\n",
       "      <td>0.06</td>\n",
       "      <td>-0.01</td>\n",
       "    </tr>\n",
       "    <tr>\n",
       "      <th>residual sugar</th>\n",
       "      <td>-0.11</td>\n",
       "      <td>-0.20</td>\n",
       "      <td>0.14</td>\n",
       "      <td>1.00</td>\n",
       "      <td>-0.13</td>\n",
       "      <td>0.40</td>\n",
       "      <td>0.50</td>\n",
       "      <td>0.55</td>\n",
       "      <td>-0.27</td>\n",
       "      <td>-0.19</td>\n",
       "      <td>-0.36</td>\n",
       "    </tr>\n",
       "    <tr>\n",
       "      <th>chlorides</th>\n",
       "      <td>0.30</td>\n",
       "      <td>0.38</td>\n",
       "      <td>0.04</td>\n",
       "      <td>-0.13</td>\n",
       "      <td>1.00</td>\n",
       "      <td>-0.20</td>\n",
       "      <td>-0.28</td>\n",
       "      <td>0.36</td>\n",
       "      <td>0.04</td>\n",
       "      <td>0.40</td>\n",
       "      <td>-0.26</td>\n",
       "    </tr>\n",
       "    <tr>\n",
       "      <th>free sulfur dioxide</th>\n",
       "      <td>-0.28</td>\n",
       "      <td>-0.35</td>\n",
       "      <td>0.13</td>\n",
       "      <td>0.40</td>\n",
       "      <td>-0.20</td>\n",
       "      <td>1.00</td>\n",
       "      <td>0.72</td>\n",
       "      <td>0.03</td>\n",
       "      <td>-0.15</td>\n",
       "      <td>-0.19</td>\n",
       "      <td>-0.18</td>\n",
       "    </tr>\n",
       "    <tr>\n",
       "      <th>total sulfur dioxide</th>\n",
       "      <td>-0.33</td>\n",
       "      <td>-0.41</td>\n",
       "      <td>0.20</td>\n",
       "      <td>0.50</td>\n",
       "      <td>-0.28</td>\n",
       "      <td>0.72</td>\n",
       "      <td>1.00</td>\n",
       "      <td>0.03</td>\n",
       "      <td>-0.24</td>\n",
       "      <td>-0.28</td>\n",
       "      <td>-0.27</td>\n",
       "    </tr>\n",
       "    <tr>\n",
       "      <th>density</th>\n",
       "      <td>0.46</td>\n",
       "      <td>0.27</td>\n",
       "      <td>0.10</td>\n",
       "      <td>0.55</td>\n",
       "      <td>0.36</td>\n",
       "      <td>0.03</td>\n",
       "      <td>0.03</td>\n",
       "      <td>1.00</td>\n",
       "      <td>0.01</td>\n",
       "      <td>0.26</td>\n",
       "      <td>-0.69</td>\n",
       "    </tr>\n",
       "    <tr>\n",
       "      <th>pH</th>\n",
       "      <td>-0.25</td>\n",
       "      <td>0.26</td>\n",
       "      <td>-0.33</td>\n",
       "      <td>-0.27</td>\n",
       "      <td>0.04</td>\n",
       "      <td>-0.15</td>\n",
       "      <td>-0.24</td>\n",
       "      <td>0.01</td>\n",
       "      <td>1.00</td>\n",
       "      <td>0.19</td>\n",
       "      <td>0.12</td>\n",
       "    </tr>\n",
       "    <tr>\n",
       "      <th>sulphates</th>\n",
       "      <td>0.30</td>\n",
       "      <td>0.23</td>\n",
       "      <td>0.06</td>\n",
       "      <td>-0.19</td>\n",
       "      <td>0.40</td>\n",
       "      <td>-0.19</td>\n",
       "      <td>-0.28</td>\n",
       "      <td>0.26</td>\n",
       "      <td>0.19</td>\n",
       "      <td>1.00</td>\n",
       "      <td>-0.00</td>\n",
       "    </tr>\n",
       "    <tr>\n",
       "      <th>alcohol</th>\n",
       "      <td>-0.10</td>\n",
       "      <td>-0.04</td>\n",
       "      <td>-0.01</td>\n",
       "      <td>-0.36</td>\n",
       "      <td>-0.26</td>\n",
       "      <td>-0.18</td>\n",
       "      <td>-0.27</td>\n",
       "      <td>-0.69</td>\n",
       "      <td>0.12</td>\n",
       "      <td>-0.00</td>\n",
       "      <td>1.00</td>\n",
       "    </tr>\n",
       "  </tbody>\n",
       "</table>\n",
       "</div>"
      ],
      "text/plain": [
       "                      fixed acidity  volatile acidity  citric acid  \\\n",
       "fixed acidity                  1.00              0.22         0.32   \n",
       "volatile acidity               0.22              1.00        -0.38   \n",
       "citric acid                    0.32             -0.38         1.00   \n",
       "residual sugar                -0.11             -0.20         0.14   \n",
       "chlorides                      0.30              0.38         0.04   \n",
       "free sulfur dioxide           -0.28             -0.35         0.13   \n",
       "total sulfur dioxide          -0.33             -0.41         0.20   \n",
       "density                        0.46              0.27         0.10   \n",
       "pH                            -0.25              0.26        -0.33   \n",
       "sulphates                      0.30              0.23         0.06   \n",
       "alcohol                       -0.10             -0.04        -0.01   \n",
       "\n",
       "                      residual sugar  chlorides  free sulfur dioxide  \\\n",
       "fixed acidity                  -0.11       0.30                -0.28   \n",
       "volatile acidity               -0.20       0.38                -0.35   \n",
       "citric acid                     0.14       0.04                 0.13   \n",
       "residual sugar                  1.00      -0.13                 0.40   \n",
       "chlorides                      -0.13       1.00                -0.20   \n",
       "free sulfur dioxide             0.40      -0.20                 1.00   \n",
       "total sulfur dioxide            0.50      -0.28                 0.72   \n",
       "density                         0.55       0.36                 0.03   \n",
       "pH                             -0.27       0.04                -0.15   \n",
       "sulphates                      -0.19       0.40                -0.19   \n",
       "alcohol                        -0.36      -0.26                -0.18   \n",
       "\n",
       "                      total sulfur dioxide  density    pH  sulphates  alcohol  \n",
       "fixed acidity                        -0.33     0.46 -0.25       0.30    -0.10  \n",
       "volatile acidity                     -0.41     0.27  0.26       0.23    -0.04  \n",
       "citric acid                           0.20     0.10 -0.33       0.06    -0.01  \n",
       "residual sugar                        0.50     0.55 -0.27      -0.19    -0.36  \n",
       "chlorides                            -0.28     0.36  0.04       0.40    -0.26  \n",
       "free sulfur dioxide                   0.72     0.03 -0.15      -0.19    -0.18  \n",
       "total sulfur dioxide                  1.00     0.03 -0.24      -0.28    -0.27  \n",
       "density                               0.03     1.00  0.01       0.26    -0.69  \n",
       "pH                                   -0.24     0.01  1.00       0.19     0.12  \n",
       "sulphates                            -0.28     0.26  0.19       1.00    -0.00  \n",
       "alcohol                              -0.27    -0.69  0.12      -0.00     1.00  "
      ]
     },
     "execution_count": 7,
     "metadata": {},
     "output_type": "execute_result"
    }
   ],
   "source": [
    "wine_data[predictor_list].corr().round(2)"
   ]
  },
  {
   "cell_type": "markdown",
   "id": "cca78226",
   "metadata": {},
   "source": [
    "No features appear to be fully separable (or even close) because there's significant overlap, but they've also got either very different shapes or sections of non-overlap.<br>\n",
    "The highest inter-predictor correlation is for free and total sulfur dioxide, but that's because total sulfur dioxide is going to be the sum of free sulfur dioxide and bound sulfur dioxide. I'd consider eliminating one of these, but when you square the correlation coefficient to get a coefficient of determination, less than 50% of the variance is explained.<br>\n",
    "From what I know about fermentation, density is a function of initial sugar and how much of it has been fermented into alcohol versus allowed to remain as residual sugars, so it's unsurprising to see the correlation figures there. Those coefficients would probably have greater magnitude if there was a consistent starting sugar concentration.<br>\n",
    "If I was overly concerned about model complexity, I'd gravitate toward some form of dimensionality reduction (probably PCA), but at this scale and for this assignment, I'd prefer to skip that so that the resulting model is more interpretable and any relevant post-modeling visualizations don't lose interpretability through dimensonality reduction.<br>\n",
    "Since we know we've got 2 groups of interest, I'd like to see how k-means handles categorizing them.<br>\n",
    "<b>\n",
    "- Hypothesis 1: Despite the absence of any color-specific variables, the quantitative features will provide for good separation of the two broad categories of wines using k-means.\n",
    "- Hypothesis 2: The sulfur-related components will not have as much of an impact as other features. (Rationale: Sulfate free wines are advertised for individuals who have sensitivities to sulfates.)\n",
    "</b>\n",
    "    "
   ]
  },
  {
   "cell_type": "markdown",
   "id": "8882d3bf",
   "metadata": {},
   "source": [
    "Everything will need to be scaled becuase there's wildly different ranges of values.<br>\n",
    "I'm going to leave the outliers in because there are relatively few of them and I don't have any reason to assume they're measurement errors, plus there's reason to assume significant heterogenity in the binary category we're predicting. (I.e. Lots of different types of wines are \"whites\" or \"reds\" and they're not a homogenous category.)"
   ]
  },
  {
   "cell_type": "markdown",
   "id": "af5bde4e",
   "metadata": {},
   "source": [
    "#### Unsupervised Learning Model 1 - K-Means (k=2) with all quantitative variables (excluding quality rating) from the original dataset."
   ]
  },
  {
   "cell_type": "code",
   "execution_count": 8,
   "id": "bceb0715",
   "metadata": {},
   "outputs": [],
   "source": [
    "pipe1 = Pipeline([\n",
    "    ('scaler', StandardScaler()),\n",
    "    ('k-means', KMeans(n_clusters = 2, init = \"random\", n_init = 100, max_iter = 1000, random_state = 0))\n",
    "])"
   ]
  },
  {
   "cell_type": "code",
   "execution_count": 9,
   "id": "a5c00ff2",
   "metadata": {},
   "outputs": [
    {
     "name": "stdout",
     "output_type": "stream",
     "text": [
      "Model 1 Accuracy: 0.9858396182853625\n",
      "Confusion Matrix\n",
      "[[1575   68]\n",
      " [  24 4830]]\n"
     ]
    }
   ],
   "source": [
    "pipe1_predictions = pipe1.fit_predict(wine_data[predictor_list].to_numpy())\n",
    "pipe1_accuracy = accuracy_score(wine_data[\"type_bin\"].to_numpy(), pipe1_predictions)\n",
    "print(f\"Model 1 Accuracy: {pipe1_accuracy}\")\n",
    "print(\"Confusion Matrix\")\n",
    "print(confusion_matrix(pipe1_predictions, wine_data[\"type_bin\"].to_numpy()))"
   ]
  },
  {
   "cell_type": "markdown",
   "id": "32800d6a",
   "metadata": {},
   "source": [
    "#### Unsupervised Learning Model 2 - K-Means (k=2) with the variables that are going to be most accessible to home analysis. Testing for sulphates or chlorides is going to be rather difficult, but pH, alcohol, and residual sugar are measurements which are accessible to someone making wine at home."
   ]
  },
  {
   "cell_type": "code",
   "execution_count": 10,
   "id": "630d2f11",
   "metadata": {},
   "outputs": [],
   "source": [
    "pipe2 = Pipeline([\n",
    "    ('scaler', StandardScaler()),\n",
    "    ('k-means', KMeans(n_clusters = 2, init = \"random\", n_init = 100, max_iter = 1000, random_state = 0))\n",
    "])"
   ]
  },
  {
   "cell_type": "code",
   "execution_count": 11,
   "id": "49551fdf",
   "metadata": {},
   "outputs": [
    {
     "name": "stdout",
     "output_type": "stream",
     "text": [
      "Model 2 Accuracy: 0.5402493458519316\n",
      "Confusion Matrix\n",
      "[[1557 2945]\n",
      " [  42 1953]]\n"
     ]
    }
   ],
   "source": [
    "pipe2_predictions = pipe2.fit_predict(wine_data[[\"pH\", \"alcohol\", \"residual sugar\"]].to_numpy())\n",
    "pipe2_accuracy = accuracy_score(wine_data[\"type_bin\"].to_numpy(), pipe2_predictions)\n",
    "print(f\"Model 2 Accuracy: {pipe2_accuracy}\")\n",
    "print(\"Confusion Matrix\")\n",
    "print(confusion_matrix(pipe2_predictions, wine_data[\"type_bin\"].to_numpy()))"
   ]
  },
  {
   "cell_type": "markdown",
   "id": "505dc97f",
   "metadata": {},
   "source": [
    "#### Unsupervised Learning Model 3 - K-Means (k=2) exclusively using factors directly related to acidity, which are pH, citric acid, fixed acidity, and volatile acidity. (Apparently \"volatile acidity\" is essentially acetic acid concentration while fixed acidity is everything else.)"
   ]
  },
  {
   "cell_type": "code",
   "execution_count": 12,
   "id": "afaee308",
   "metadata": {},
   "outputs": [],
   "source": [
    "pipe3 = Pipeline([\n",
    "    ('scaler', StandardScaler()),\n",
    "    ('k-means', KMeans(n_clusters = 2, init = \"random\", n_init = 100, max_iter = 1000, random_state = 0))\n",
    "])"
   ]
  },
  {
   "cell_type": "code",
   "execution_count": 13,
   "id": "15f889ea",
   "metadata": {},
   "outputs": [
    {
     "name": "stdout",
     "output_type": "stream",
     "text": [
      "Model 3 Accuracy: 0.8505464060335539\n",
      "Confusion Matrix\n",
      "[[ 923  295]\n",
      " [ 676 4603]]\n"
     ]
    }
   ],
   "source": [
    "pipe3_predictions = pipe3.fit_predict(wine_data[[\"pH\", \"citric acid\", \"volatile acidity\", \"fixed acidity\"]].to_numpy())\n",
    "pipe3_accuracy = accuracy_score(wine_data[\"type_bin\"].to_numpy(), pipe3_predictions)\n",
    "print(f\"Model 3 Accuracy: {pipe3_accuracy}\")\n",
    "print(\"Confusion Matrix\")\n",
    "print(confusion_matrix(pipe3_predictions, wine_data[\"type_bin\"].to_numpy()))"
   ]
  },
  {
   "cell_type": "markdown",
   "id": "2ac98e0d",
   "metadata": {},
   "source": [
    "#### Unsupervised Learning Model 4 - K-Means (k=2) exclusively using factors directly related to sulfur, which are sulphates, free sulfur dioxide, and total sulfur dioxide. (Note: What appeared to initially be poor performance was actually the result of k-means encoding the two categories backwards from what was originally anticipated, but this is easily remidied, especially with k=2.)"
   ]
  },
  {
   "cell_type": "code",
   "execution_count": 14,
   "id": "dfa25832",
   "metadata": {},
   "outputs": [],
   "source": [
    "pipe4 = Pipeline([\n",
    "    ('scaler', StandardScaler()),\n",
    "    ('k-means', KMeans(n_clusters = 2, init = \"random\", n_init = 100, max_iter = 1000, random_state = 0))\n",
    "])"
   ]
  },
  {
   "cell_type": "code",
   "execution_count": 15,
   "id": "ef47ff07",
   "metadata": {},
   "outputs": [
    {
     "name": "stdout",
     "output_type": "stream",
     "text": [
      "Model 4 Accuracy: 0.18439279667538863\n",
      "Confusion Matrix\n",
      "[[  76 3776]\n",
      " [1523 1122]]\n",
      "\n",
      "Reverse the numeric encoding and check accuracy and the confusion matrix again:\n",
      "\n",
      "Model 4 Accuracy (inverted encoding): 0.8156072033246113\n",
      "Confusion Matrix\n",
      "[[3776   76]\n",
      " [1122 1523]]\n"
     ]
    }
   ],
   "source": [
    "pipe4_predictions = pipe4.fit_predict(wine_data[[\"sulphates\", \"free sulfur dioxide\", \"total sulfur dioxide\"]].to_numpy())\n",
    "pipe4_accuracy = accuracy_score(wine_data[\"type_bin\"].to_numpy(), pipe4_predictions)\n",
    "print(f\"Model 4 Accuracy: {pipe4_accuracy}\")\n",
    "print(\"Confusion Matrix\")\n",
    "print(confusion_matrix(pipe4_predictions, wine_data[\"type_bin\"].to_numpy()))\n",
    "print(\"\\nReverse the numeric encoding and check accuracy and the confusion matrix again:\\n\")\n",
    "pipe4_accuracy = accuracy_score(1+(wine_data[\"type_bin\"].to_numpy()*-1), pipe4_predictions)\n",
    "print(f\"Model 4 Accuracy (inverted encoding): {pipe4_accuracy}\")\n",
    "print(\"Confusion Matrix\")\n",
    "print(confusion_matrix(pipe4_predictions, 1+(wine_data[\"type_bin\"].to_numpy()*-1)))\n"
   ]
  },
  {
   "cell_type": "markdown",
   "id": "04ba5077",
   "metadata": {},
   "source": [
    "<b>Conclusion:<br>\n",
    "Unsurprisingly, the full assortment of quantitative variables was able to provide good categorization (>98% accuracy) with k-means (k=2).<br>\n",
    "Surprisingly, the sulfur-related variables did a better job at categorization than those related to sugar and alcohol.<br>\n",
    "While this was a relatively contrived unsupervised learning example, this general approach (feeding quantitative laboratory analysis into k-means) may have applications in the categorization of less differentiable alcoholic beverages for use in determining provenance, identifying counterfeits, or other uses.\n",
    "</b>"
   ]
  }
 ],
 "metadata": {
  "kernelspec": {
   "display_name": "Python 3 (ipykernel)",
   "language": "python",
   "name": "python3"
  },
  "language_info": {
   "codemirror_mode": {
    "name": "ipython",
    "version": 3
   },
   "file_extension": ".py",
   "mimetype": "text/x-python",
   "name": "python",
   "nbconvert_exporter": "python",
   "pygments_lexer": "ipython3",
   "version": "3.9.12"
  }
 },
 "nbformat": 4,
 "nbformat_minor": 5
}
